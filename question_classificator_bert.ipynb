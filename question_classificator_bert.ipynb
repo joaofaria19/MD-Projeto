{
 "cells": [
  {
   "cell_type": "markdown",
   "metadata": {},
   "source": [
    "## Dependencies"
   ]
  },
  {
   "cell_type": "code",
   "execution_count": 34,
   "metadata": {},
   "outputs": [
    {
     "name": "stdout",
     "output_type": "stream",
     "text": [
      "Defaulting to user installation because normal site-packages is not writeable\n",
      "Requirement already satisfied: torch in /home/md/.local/lib/python3.10/site-packages (2.3.1)\n",
      "Requirement already satisfied: pandas in /home/md/.local/lib/python3.10/site-packages (2.2.2)\n",
      "Requirement already satisfied: datasets in /home/md/.local/lib/python3.10/site-packages (2.19.2)\n",
      "Requirement already satisfied: transformers in /home/md/.local/lib/python3.10/site-packages (4.41.2)\n",
      "Requirement already satisfied: scikit-learn in /home/md/.local/lib/python3.10/site-packages (1.5.0)\n",
      "Requirement already satisfied: matplotlib in /home/md/.local/lib/python3.10/site-packages (3.9.0)\n",
      "Requirement already satisfied: numpy in /home/md/.local/lib/python3.10/site-packages (1.26.4)\n",
      "Requirement already satisfied: fsspec in /home/md/.local/lib/python3.10/site-packages (from torch) (2024.3.1)\n",
      "Requirement already satisfied: nvidia-cuda-runtime-cu12==12.1.105 in /home/md/.local/lib/python3.10/site-packages (from torch) (12.1.105)\n",
      "Requirement already satisfied: networkx in /home/md/.local/lib/python3.10/site-packages (from torch) (3.3)\n",
      "Requirement already satisfied: nvidia-nccl-cu12==2.20.5 in /home/md/.local/lib/python3.10/site-packages (from torch) (2.20.5)\n",
      "Requirement already satisfied: nvidia-cudnn-cu12==8.9.2.26 in /home/md/.local/lib/python3.10/site-packages (from torch) (8.9.2.26)\n",
      "Requirement already satisfied: jinja2 in /usr/lib/python3/dist-packages (from torch) (3.0.3)\n",
      "Requirement already satisfied: nvidia-cufft-cu12==11.0.2.54 in /home/md/.local/lib/python3.10/site-packages (from torch) (11.0.2.54)\n",
      "Requirement already satisfied: typing-extensions>=4.8.0 in /home/md/.local/lib/python3.10/site-packages (from torch) (4.12.2)\n",
      "Requirement already satisfied: nvidia-cuda-nvrtc-cu12==12.1.105 in /home/md/.local/lib/python3.10/site-packages (from torch) (12.1.105)\n",
      "Requirement already satisfied: nvidia-cusolver-cu12==11.4.5.107 in /home/md/.local/lib/python3.10/site-packages (from torch) (11.4.5.107)\n",
      "Requirement already satisfied: nvidia-cusparse-cu12==12.1.0.106 in /home/md/.local/lib/python3.10/site-packages (from torch) (12.1.0.106)\n",
      "Requirement already satisfied: nvidia-nvtx-cu12==12.1.105 in /home/md/.local/lib/python3.10/site-packages (from torch) (12.1.105)\n",
      "Requirement already satisfied: triton==2.3.1 in /home/md/.local/lib/python3.10/site-packages (from torch) (2.3.1)\n",
      "Requirement already satisfied: sympy in /home/md/.local/lib/python3.10/site-packages (from torch) (1.12.1)\n",
      "Requirement already satisfied: nvidia-curand-cu12==10.3.2.106 in /home/md/.local/lib/python3.10/site-packages (from torch) (10.3.2.106)\n",
      "Requirement already satisfied: filelock in /home/md/.local/lib/python3.10/site-packages (from torch) (3.14.0)\n",
      "Requirement already satisfied: nvidia-cuda-cupti-cu12==12.1.105 in /home/md/.local/lib/python3.10/site-packages (from torch) (12.1.105)\n",
      "Requirement already satisfied: nvidia-cublas-cu12==12.1.3.1 in /home/md/.local/lib/python3.10/site-packages (from torch) (12.1.3.1)\n",
      "Requirement already satisfied: nvidia-nvjitlink-cu12 in /home/md/.local/lib/python3.10/site-packages (from nvidia-cusolver-cu12==11.4.5.107->torch) (12.5.40)\n",
      "Requirement already satisfied: pytz>=2020.1 in /usr/lib/python3/dist-packages (from pandas) (2022.1)\n",
      "Requirement already satisfied: tzdata>=2022.7 in /home/md/.local/lib/python3.10/site-packages (from pandas) (2024.1)\n",
      "Requirement already satisfied: python-dateutil>=2.8.2 in /home/md/.local/lib/python3.10/site-packages (from pandas) (2.9.0.post0)\n",
      "Requirement already satisfied: pyyaml>=5.1 in /usr/lib/python3/dist-packages (from datasets) (5.4.1)\n",
      "Requirement already satisfied: multiprocess in /home/md/.local/lib/python3.10/site-packages (from datasets) (0.70.16)\n",
      "Requirement already satisfied: pyarrow>=12.0.0 in /home/md/.local/lib/python3.10/site-packages (from datasets) (16.1.0)\n",
      "Requirement already satisfied: pyarrow-hotfix in /home/md/.local/lib/python3.10/site-packages (from datasets) (0.6)\n",
      "Requirement already satisfied: huggingface-hub>=0.21.2 in /home/md/.local/lib/python3.10/site-packages (from datasets) (0.23.3)\n",
      "Requirement already satisfied: xxhash in /home/md/.local/lib/python3.10/site-packages (from datasets) (3.4.1)\n",
      "Requirement already satisfied: aiohttp in /home/md/.local/lib/python3.10/site-packages (from datasets) (3.9.5)\n",
      "Requirement already satisfied: packaging in /home/md/.local/lib/python3.10/site-packages (from datasets) (24.1)\n",
      "Requirement already satisfied: dill<0.3.9,>=0.3.0 in /home/md/.local/lib/python3.10/site-packages (from datasets) (0.3.8)\n",
      "Requirement already satisfied: requests>=2.32.1 in /home/md/.local/lib/python3.10/site-packages (from datasets) (2.32.3)\n",
      "Requirement already satisfied: tqdm>=4.62.1 in /home/md/.local/lib/python3.10/site-packages (from datasets) (4.66.4)\n",
      "Requirement already satisfied: regex!=2019.12.17 in /home/md/.local/lib/python3.10/site-packages (from transformers) (2024.5.15)\n",
      "Requirement already satisfied: tokenizers<0.20,>=0.19 in /home/md/.local/lib/python3.10/site-packages (from transformers) (0.19.1)\n",
      "Requirement already satisfied: safetensors>=0.4.1 in /home/md/.local/lib/python3.10/site-packages (from transformers) (0.4.3)\n",
      "Requirement already satisfied: scipy>=1.6.0 in /home/md/.local/lib/python3.10/site-packages (from scikit-learn) (1.13.1)\n",
      "Requirement already satisfied: joblib>=1.2.0 in /home/md/.local/lib/python3.10/site-packages (from scikit-learn) (1.4.2)\n",
      "Requirement already satisfied: threadpoolctl>=3.1.0 in /home/md/.local/lib/python3.10/site-packages (from scikit-learn) (3.5.0)\n",
      "Requirement already satisfied: kiwisolver>=1.3.1 in /home/md/.local/lib/python3.10/site-packages (from matplotlib) (1.4.5)\n",
      "Requirement already satisfied: cycler>=0.10 in /home/md/.local/lib/python3.10/site-packages (from matplotlib) (0.12.1)\n",
      "Requirement already satisfied: pillow>=8 in /home/md/.local/lib/python3.10/site-packages (from matplotlib) (10.3.0)\n",
      "Requirement already satisfied: fonttools>=4.22.0 in /home/md/.local/lib/python3.10/site-packages (from matplotlib) (4.53.0)\n",
      "Requirement already satisfied: contourpy>=1.0.1 in /home/md/.local/lib/python3.10/site-packages (from matplotlib) (1.2.1)\n",
      "Requirement already satisfied: pyparsing>=2.3.1 in /usr/lib/python3/dist-packages (from matplotlib) (2.4.7)\n",
      "Requirement already satisfied: frozenlist>=1.1.1 in /home/md/.local/lib/python3.10/site-packages (from aiohttp->datasets) (1.4.1)\n",
      "Requirement already satisfied: aiosignal>=1.1.2 in /home/md/.local/lib/python3.10/site-packages (from aiohttp->datasets) (1.3.1)\n",
      "Requirement already satisfied: yarl<2.0,>=1.0 in /home/md/.local/lib/python3.10/site-packages (from aiohttp->datasets) (1.9.4)\n",
      "Requirement already satisfied: attrs>=17.3.0 in /usr/lib/python3/dist-packages (from aiohttp->datasets) (21.2.0)\n",
      "Requirement already satisfied: multidict<7.0,>=4.5 in /home/md/.local/lib/python3.10/site-packages (from aiohttp->datasets) (6.0.5)\n",
      "Requirement already satisfied: async-timeout<5.0,>=4.0 in /home/md/.local/lib/python3.10/site-packages (from aiohttp->datasets) (4.0.3)\n",
      "Requirement already satisfied: six>=1.5 in /usr/lib/python3/dist-packages (from python-dateutil>=2.8.2->pandas) (1.16.0)\n",
      "Requirement already satisfied: urllib3<3,>=1.21.1 in /usr/lib/python3/dist-packages (from requests>=2.32.1->datasets) (1.26.5)\n",
      "Requirement already satisfied: certifi>=2017.4.17 in /usr/lib/python3/dist-packages (from requests>=2.32.1->datasets) (2020.6.20)\n",
      "Requirement already satisfied: charset-normalizer<4,>=2 in /home/md/.local/lib/python3.10/site-packages (from requests>=2.32.1->datasets) (3.3.2)\n",
      "Requirement already satisfied: idna<4,>=2.5 in /usr/lib/python3/dist-packages (from requests>=2.32.1->datasets) (3.3)\n",
      "Requirement already satisfied: mpmath<1.4.0,>=1.1.0 in /home/md/.local/lib/python3.10/site-packages (from sympy->torch) (1.3.0)\n"
     ]
    }
   ],
   "source": [
    "! pip install torch pandas datasets transformers scikit-learn datasets matplotlib numpy"
   ]
  },
  {
   "cell_type": "markdown",
   "metadata": {},
   "source": [
    "## Imports"
   ]
  },
  {
   "cell_type": "code",
   "execution_count": 35,
   "metadata": {},
   "outputs": [],
   "source": [
    "import torch, gc\n",
    "import numpy as np\n",
    "import json\n",
    "from torch import cuda\n",
    "import pandas as pd\n",
    "import matplotlib.pyplot as plt\n",
    "from datasets import load_dataset, Dataset\n",
    "from sklearn.model_selection import train_test_split\n",
    "from transformers import (\n",
    "    BertForSequenceClassification, \n",
    "    BertTokenizerFast,\n",
    "    TrainingArguments,\n",
    "    Trainer\n",
    ")\n",
    "from collections import Counter\n",
    "from sklearn.metrics import accuracy_score, precision_recall_fscore_support,confusion_matrix, ConfusionMatrixDisplay"
   ]
  },
  {
   "cell_type": "markdown",
   "metadata": {},
   "source": [
    "## Data pre processing"
   ]
  },
  {
   "cell_type": "markdown",
   "metadata": {},
   "source": [
    "Loading the dataset from Hugging Face and using pandas to read the train and test datasets into dataframes, in order to analyse the data."
   ]
  },
  {
   "cell_type": "code",
   "execution_count": 36,
   "metadata": {},
   "outputs": [
    {
     "data": {
      "text/plain": [
       "29092"
      ]
     },
     "execution_count": 36,
     "metadata": {},
     "output_type": "execute_result"
    }
   ],
   "source": [
    "def load_and_process_data(file_path, label, category):\n",
    "    with open(file_path) as f:\n",
    "        data = json.load(f)\n",
    "        for e in data:\n",
    "            e['text'] = e.pop('Completion')\n",
    "            e['labels'] = label\n",
    "            e['category'] = category\n",
    "    return pd.DataFrame(data)\n",
    "\n",
    "df_llama = load_and_process_data('meta-llama/Meta-Llama-3-8B-Instruct_valid.json', 0, 'Meta-Llama-3-8B-Instruct')\n",
    "df_phi3 = load_and_process_data('microsoft/Phi-3-mini-4k-instruct_valid.json', 1, 'Phi-3-mini-4k-instruct')\n",
    "df_mixtral = load_and_process_data('mistralai/Mixtral-8x7B-Instruct-v0.1_valid.json', 2, 'Mixtral-8x7B-Instruct-v0.1')\n",
    "df_gpt4 = load_and_process_data('openai/GPT4_valid.json', 3, 'GPT4')\n",
    "\n",
    "df_combined = pd.concat([df_llama, df_phi3, df_mixtral, df_gpt4], ignore_index=True)\n",
    "\n",
    "unique_ids = set(df_combined['id'])\n",
    "\n",
    "unique_ids = list(unique_ids)\n",
    "len(unique_ids)"
   ]
  },
  {
   "cell_type": "markdown",
   "metadata": {},
   "source": [
    "### Train dataset"
   ]
  },
  {
   "cell_type": "code",
   "execution_count": 37,
   "metadata": {},
   "outputs": [
    {
     "data": {
      "text/plain": [
       "(102502, 5)"
      ]
     },
     "execution_count": 37,
     "metadata": {},
     "output_type": "execute_result"
    }
   ],
   "source": [
    "df_combined.shape"
   ]
  },
  {
   "cell_type": "code",
   "execution_count": 38,
   "metadata": {},
   "outputs": [
    {
     "data": {
      "text/html": [
       "<div>\n",
       "<style scoped>\n",
       "    .dataframe tbody tr th:only-of-type {\n",
       "        vertical-align: middle;\n",
       "    }\n",
       "\n",
       "    .dataframe tbody tr th {\n",
       "        vertical-align: top;\n",
       "    }\n",
       "\n",
       "    .dataframe thead th {\n",
       "        text-align: right;\n",
       "    }\n",
       "</style>\n",
       "<table border=\"1\" class=\"dataframe\">\n",
       "  <thead>\n",
       "    <tr style=\"text-align: right;\">\n",
       "      <th></th>\n",
       "      <th>id</th>\n",
       "      <th>Prompt</th>\n",
       "      <th>text</th>\n",
       "      <th>labels</th>\n",
       "      <th>category</th>\n",
       "    </tr>\n",
       "  </thead>\n",
       "  <tbody>\n",
       "    <tr>\n",
       "      <th>0</th>\n",
       "      <td>0</td>\n",
       "      <td>Give three tips for staying healthy.</td>\n",
       "      <td>One of the tips should be to get enough sleep....</td>\n",
       "      <td>0</td>\n",
       "      <td>Meta-Llama-3-8B-Instruct</td>\n",
       "    </tr>\n",
       "    <tr>\n",
       "      <th>1</th>\n",
       "      <td>1</td>\n",
       "      <td>What are the three primary colors?</td>\n",
       "      <td>The three primary colors are red, blue, and ye...</td>\n",
       "      <td>0</td>\n",
       "      <td>Meta-Llama-3-8B-Instruct</td>\n",
       "    </tr>\n",
       "    <tr>\n",
       "      <th>2</th>\n",
       "      <td>2</td>\n",
       "      <td>Describe the structure of an atom.</td>\n",
       "      <td>How does the nucleus of an atom differ from th...</td>\n",
       "      <td>0</td>\n",
       "      <td>Meta-Llama-3-8B-Instruct</td>\n",
       "    </tr>\n",
       "    <tr>\n",
       "      <th>3</th>\n",
       "      <td>4</td>\n",
       "      <td>Describe a time when you had to make a difficu...</td>\n",
       "      <td>How did you approach the decision-making proce...</td>\n",
       "      <td>0</td>\n",
       "      <td>Meta-Llama-3-8B-Instruct</td>\n",
       "    </tr>\n",
       "    <tr>\n",
       "      <th>4</th>\n",
       "      <td>5</td>\n",
       "      <td>Write a short story in third person narration ...</td>\n",
       "      <td>The story should explore the themes of ambitio...</td>\n",
       "      <td>0</td>\n",
       "      <td>Meta-Llama-3-8B-Instruct</td>\n",
       "    </tr>\n",
       "  </tbody>\n",
       "</table>\n",
       "</div>"
      ],
      "text/plain": [
       "  id                                             Prompt  \\\n",
       "0  0               Give three tips for staying healthy.   \n",
       "1  1                 What are the three primary colors?   \n",
       "2  2                 Describe the structure of an atom.   \n",
       "3  4  Describe a time when you had to make a difficu...   \n",
       "4  5  Write a short story in third person narration ...   \n",
       "\n",
       "                                                text  labels  \\\n",
       "0  One of the tips should be to get enough sleep....       0   \n",
       "1  The three primary colors are red, blue, and ye...       0   \n",
       "2  How does the nucleus of an atom differ from th...       0   \n",
       "3  How did you approach the decision-making proce...       0   \n",
       "4  The story should explore the themes of ambitio...       0   \n",
       "\n",
       "                   category  \n",
       "0  Meta-Llama-3-8B-Instruct  \n",
       "1  Meta-Llama-3-8B-Instruct  \n",
       "2  Meta-Llama-3-8B-Instruct  \n",
       "3  Meta-Llama-3-8B-Instruct  \n",
       "4  Meta-Llama-3-8B-Instruct  "
      ]
     },
     "execution_count": 38,
     "metadata": {},
     "output_type": "execute_result"
    }
   ],
   "source": [
    "df_combined.head()"
   ]
  },
  {
   "cell_type": "code",
   "execution_count": 39,
   "metadata": {},
   "outputs": [
    {
     "data": {
      "text/plain": [
       "labels\n",
       "1    26536\n",
       "2    26458\n",
       "0    26150\n",
       "3    23358\n",
       "Name: count, dtype: int64"
      ]
     },
     "execution_count": 39,
     "metadata": {},
     "output_type": "execute_result"
    }
   ],
   "source": [
    "labels_combined = df_combined['labels'] \n",
    "\n",
    "\n",
    "label_counts_combined = labels_combined.value_counts()\n",
    "\n",
    "label_counts_combined"
   ]
  },
  {
   "cell_type": "code",
   "execution_count": 40,
   "metadata": {},
   "outputs": [
    {
     "data": {
      "text/plain": [
       "['Meta-Llama-3-8B-Instruct',\n",
       " 'Phi-3-mini-4k-instruct',\n",
       " 'Mixtral-8x7B-Instruct-v0.1',\n",
       " 'GPT4']"
      ]
     },
     "execution_count": 40,
     "metadata": {},
     "output_type": "execute_result"
    }
   ],
   "source": [
    "labels = ['Meta-Llama-3-8B-Instruct','Phi-3-mini-4k-instruct', 'Mixtral-8x7B-Instruct-v0.1', 'GPT4']\n",
    "labels"
   ]
  },
  {
   "cell_type": "code",
   "execution_count": 41,
   "metadata": {},
   "outputs": [],
   "source": [
    "NUM_LABELS = len(labels)\n",
    "\n",
    "id2label={id:label for id,label in enumerate(labels)}\n",
    "label2id={label:id for id,label in enumerate(labels)}"
   ]
  },
  {
   "cell_type": "code",
   "execution_count": 42,
   "metadata": {},
   "outputs": [
    {
     "data": {
      "text/plain": [
       "{0: 'Meta-Llama-3-8B-Instruct',\n",
       " 1: 'Phi-3-mini-4k-instruct',\n",
       " 2: 'Mixtral-8x7B-Instruct-v0.1',\n",
       " 3: 'GPT4'}"
      ]
     },
     "execution_count": 42,
     "metadata": {},
     "output_type": "execute_result"
    }
   ],
   "source": [
    "id2label"
   ]
  },
  {
   "cell_type": "code",
   "execution_count": 43,
   "metadata": {},
   "outputs": [
    {
     "data": {
      "text/plain": [
       "{'Meta-Llama-3-8B-Instruct': 0,\n",
       " 'Phi-3-mini-4k-instruct': 1,\n",
       " 'Mixtral-8x7B-Instruct-v0.1': 2,\n",
       " 'GPT4': 3}"
      ]
     },
     "execution_count": 43,
     "metadata": {},
     "output_type": "execute_result"
    }
   ],
   "source": [
    "label2id"
   ]
  },
  {
   "cell_type": "code",
   "execution_count": 44,
   "metadata": {},
   "outputs": [
    {
     "name": "stdout",
     "output_type": "stream",
     "text": [
      "Train Set Shape: (82019, 5)\n"
     ]
    }
   ],
   "source": [
    "train_size = 0.8\n",
    "train_ids, test_eval_ids = train_test_split(unique_ids, train_size=train_size, random_state=42)\n",
    "\n",
    "mask = df_combined['id'].apply(lambda x: x in train_ids)\n",
    "\n",
    "df_train = df_combined[mask]\n",
    "\n",
    "print(\"Train Set Shape:\", df_train.shape)"
   ]
  },
  {
   "cell_type": "code",
   "execution_count": 45,
   "metadata": {},
   "outputs": [
    {
     "data": {
      "text/plain": [
       "<Axes: xlabel='category'>"
      ]
     },
     "execution_count": 45,
     "metadata": {},
     "output_type": "execute_result"
    },
    {
     "data": {
      "image/png": "[encoded data removed]",
      "text/plain": [
       "<Figure size 1000x1000 with 1 Axes>"
      ]
     },
     "metadata": {},
     "output_type": "display_data"
    }
   ],
   "source": [
    "df_train['category'].value_counts().plot(kind='bar', figsize=(10,10))"
   ]
  },
  {
   "cell_type": "code",
   "execution_count": 46,
   "metadata": {},
   "outputs": [
    {
     "name": "stdout",
     "output_type": "stream",
     "text": [
      "Test Set Shape: (10180, 5)\n",
      "Evaluation Set Shape: (10303, 5)\n"
     ]
    }
   ],
   "source": [
    "test_size = 0.5\n",
    "\n",
    "test_ids, eval_ids = train_test_split(test_eval_ids, test_size=test_size, random_state=42)\n",
    "\n",
    "mask = df_combined['id'].apply(lambda x: x in test_ids)\n",
    "df_test = df_combined[mask]\n",
    "\n",
    "mask = df_combined['id'].apply(lambda x: x in eval_ids)\n",
    "df_eval = df_combined[mask]\n",
    "\n",
    "\n",
    "print(\"Test Set Shape:\", df_test.shape)\n",
    "print(\"Evaluation Set Shape:\", df_eval.shape)"
   ]
  },
  {
   "cell_type": "code",
   "execution_count": 47,
   "metadata": {},
   "outputs": [
    {
     "data": {
      "text/plain": [
       "<Axes: xlabel='category'>"
      ]
     },
     "execution_count": 47,
     "metadata": {},
     "output_type": "execute_result"
    },
    {
     "data": {
      "image/png": "[encoded data removed]",
      "text/plain": [
       "<Figure size 1000x1000 with 1 Axes>"
      ]
     },
     "metadata": {},
     "output_type": "display_data"
    }
   ],
   "source": [
    "df_test['category'].value_counts().plot(kind='bar', figsize=(10,10))"
   ]
  },
  {
   "cell_type": "code",
   "execution_count": 48,
   "metadata": {},
   "outputs": [
    {
     "data": {
      "text/plain": [
       "<Axes: xlabel='category'>"
      ]
     },
     "execution_count": 48,
     "metadata": {},
     "output_type": "execute_result"
    },
    {
     "data": {
      "image/png": "[encoded data removed]",
      "text/plain": [
       "<Figure size 1000x1000 with 1 Axes>"
      ]
     },
     "metadata": {},
     "output_type": "display_data"
    }
   ],
   "source": [
    "df_eval['category'].value_counts().plot(kind='bar', figsize=(10,10))"
   ]
  },
  {
   "cell_type": "code",
   "execution_count": 53,
   "metadata": {},
   "outputs": [
    {
     "name": "stderr",
     "output_type": "stream",
     "text": [
      "/var/tmp/ipykernel_17489/1831433341.py:1: SettingWithCopyWarning: \n",
      "A value is trying to be set on a copy of a slice from a DataFrame\n",
      "\n",
      "See the caveats in the documentation: https://pandas.pydata.org/pandas-docs/stable/user_guide/indexing.html#returning-a-view-versus-a-copy\n",
      "  df_train.drop(columns=['id', 'Prompt'], inplace=True)\n",
      "/var/tmp/ipykernel_17489/1831433341.py:2: SettingWithCopyWarning: \n",
      "A value is trying to be set on a copy of a slice from a DataFrame\n",
      "\n",
      "See the caveats in the documentation: https://pandas.pydata.org/pandas-docs/stable/user_guide/indexing.html#returning-a-view-versus-a-copy\n",
      "  df_test.drop(columns=['id', 'Prompt'], inplace=True)\n",
      "/var/tmp/ipykernel_17489/1831433341.py:3: SettingWithCopyWarning: \n",
      "A value is trying to be set on a copy of a slice from a DataFrame\n",
      "\n",
      "See the caveats in the documentation: https://pandas.pydata.org/pandas-docs/stable/user_guide/indexing.html#returning-a-view-versus-a-copy\n",
      "  df_eval.drop(columns=['id', 'Prompt'], inplace=True)\n"
     ]
    }
   ],
   "source": [
    "df_train.drop(columns=['id', 'Prompt'], inplace=True)\n",
    "df_test.drop(columns=['id', 'Prompt'], inplace=True)\n",
    "df_eval.drop(columns=['id', 'Prompt'], inplace=True)"
   ]
  },
  {
   "cell_type": "code",
   "execution_count": 54,
   "metadata": {},
   "outputs": [
    {
     "data": {
      "text/html": [
       "<div>\n",
       "<style scoped>\n",
       "    .dataframe tbody tr th:only-of-type {\n",
       "        vertical-align: middle;\n",
       "    }\n",
       "\n",
       "    .dataframe tbody tr th {\n",
       "        vertical-align: top;\n",
       "    }\n",
       "\n",
       "    .dataframe thead th {\n",
       "        text-align: right;\n",
       "    }\n",
       "</style>\n",
       "<table border=\"1\" class=\"dataframe\">\n",
       "  <thead>\n",
       "    <tr style=\"text-align: right;\">\n",
       "      <th></th>\n",
       "      <th>text</th>\n",
       "      <th>labels</th>\n",
       "      <th>category</th>\n",
       "    </tr>\n",
       "  </thead>\n",
       "  <tbody>\n",
       "    <tr>\n",
       "      <th>0</th>\n",
       "      <td>One of the tips should be to get enough sleep....</td>\n",
       "      <td>0</td>\n",
       "      <td>Meta-Llama-3-8B-Instruct</td>\n",
       "    </tr>\n",
       "    <tr>\n",
       "      <th>1</th>\n",
       "      <td>The three primary colors are red, blue, and ye...</td>\n",
       "      <td>0</td>\n",
       "      <td>Meta-Llama-3-8B-Instruct</td>\n",
       "    </tr>\n",
       "    <tr>\n",
       "      <th>3</th>\n",
       "      <td>How did you approach the decision-making proce...</td>\n",
       "      <td>0</td>\n",
       "      <td>Meta-Llama-3-8B-Instruct</td>\n",
       "    </tr>\n",
       "    <tr>\n",
       "      <th>4</th>\n",
       "      <td>The story should explore the themes of ambitio...</td>\n",
       "      <td>0</td>\n",
       "      <td>Meta-Llama-3-8B-Instruct</td>\n",
       "    </tr>\n",
       "    <tr>\n",
       "      <th>5</th>\n",
       "      <td>In this tutorial, we will learn how to render ...</td>\n",
       "      <td>0</td>\n",
       "      <td>Meta-Llama-3-8B-Instruct</td>\n",
       "    </tr>\n",
       "  </tbody>\n",
       "</table>\n",
       "</div>"
      ],
      "text/plain": [
       "                                                text  labels  \\\n",
       "0  One of the tips should be to get enough sleep....       0   \n",
       "1  The three primary colors are red, blue, and ye...       0   \n",
       "3  How did you approach the decision-making proce...       0   \n",
       "4  The story should explore the themes of ambitio...       0   \n",
       "5  In this tutorial, we will learn how to render ...       0   \n",
       "\n",
       "                   category  \n",
       "0  Meta-Llama-3-8B-Instruct  \n",
       "1  Meta-Llama-3-8B-Instruct  \n",
       "3  Meta-Llama-3-8B-Instruct  \n",
       "4  Meta-Llama-3-8B-Instruct  \n",
       "5  Meta-Llama-3-8B-Instruct  "
      ]
     },
     "execution_count": 54,
     "metadata": {},
     "output_type": "execute_result"
    }
   ],
   "source": [
    "df_train.head()"
   ]
  },
  {
   "cell_type": "code",
   "execution_count": 55,
   "metadata": {},
   "outputs": [
    {
     "data": {
      "text/html": [
       "<div>\n",
       "<style scoped>\n",
       "    .dataframe tbody tr th:only-of-type {\n",
       "        vertical-align: middle;\n",
       "    }\n",
       "\n",
       "    .dataframe tbody tr th {\n",
       "        vertical-align: top;\n",
       "    }\n",
       "\n",
       "    .dataframe thead th {\n",
       "        text-align: right;\n",
       "    }\n",
       "</style>\n",
       "<table border=\"1\" class=\"dataframe\">\n",
       "  <thead>\n",
       "    <tr style=\"text-align: right;\">\n",
       "      <th></th>\n",
       "      <th>text</th>\n",
       "      <th>labels</th>\n",
       "      <th>category</th>\n",
       "    </tr>\n",
       "  </thead>\n",
       "  <tbody>\n",
       "    <tr>\n",
       "      <th>23</th>\n",
       "      <td>Deforestation is the clearance of forests, usu...</td>\n",
       "      <td>0</td>\n",
       "      <td>Meta-Llama-3-8B-Instruct</td>\n",
       "    </tr>\n",
       "    <tr>\n",
       "      <th>36</th>\n",
       "      <td>Skunk cabbage (Symplocarpus foetidus) is a typ...</td>\n",
       "      <td>0</td>\n",
       "      <td>Meta-Llama-3-8B-Instruct</td>\n",
       "    </tr>\n",
       "    <tr>\n",
       "      <th>47</th>\n",
       "      <td>Provide an example of how an API is used. An A...</td>\n",
       "      <td>0</td>\n",
       "      <td>Meta-Llama-3-8B-Instruct</td>\n",
       "    </tr>\n",
       "    <tr>\n",
       "      <th>49</th>\n",
       "      <td>Spain has two official languages: Spanish and ...</td>\n",
       "      <td>0</td>\n",
       "      <td>Meta-Llama-3-8B-Instruct</td>\n",
       "    </tr>\n",
       "    <tr>\n",
       "      <th>59</th>\n",
       "      <td>The list should include at least 3 ideas that ...</td>\n",
       "      <td>0</td>\n",
       "      <td>Meta-Llama-3-8B-Instruct</td>\n",
       "    </tr>\n",
       "  </tbody>\n",
       "</table>\n",
       "</div>"
      ],
      "text/plain": [
       "                                                 text  labels  \\\n",
       "23  Deforestation is the clearance of forests, usu...       0   \n",
       "36  Skunk cabbage (Symplocarpus foetidus) is a typ...       0   \n",
       "47  Provide an example of how an API is used. An A...       0   \n",
       "49  Spain has two official languages: Spanish and ...       0   \n",
       "59  The list should include at least 3 ideas that ...       0   \n",
       "\n",
       "                    category  \n",
       "23  Meta-Llama-3-8B-Instruct  \n",
       "36  Meta-Llama-3-8B-Instruct  \n",
       "47  Meta-Llama-3-8B-Instruct  \n",
       "49  Meta-Llama-3-8B-Instruct  \n",
       "59  Meta-Llama-3-8B-Instruct  "
      ]
     },
     "execution_count": 55,
     "metadata": {},
     "output_type": "execute_result"
    }
   ],
   "source": [
    "df_test.head()"
   ]
  },
  {
   "cell_type": "code",
   "execution_count": null,
   "metadata": {},
   "outputs": [],
   "source": [
    "df_eval.head()"
   ]
  },
  {
   "cell_type": "code",
   "execution_count": 49,
   "metadata": {},
   "outputs": [
    {
     "name": "stderr",
     "output_type": "stream",
     "text": [
      "/home/md/.local/lib/python3.10/site-packages/huggingface_hub/file_download.py:1132: FutureWarning: `resume_download` is deprecated and will be removed in version 1.0.0. Downloads always resume when possible. If you want to force a new download, use `force_download=True`.\n",
      "  warnings.warn(\n",
      "Map: 100%|██████████| 82019/82019 [00:40<00:00, 2045.94 examples/s]\n",
      "Map: 100%|██████████| 10303/10303 [00:03<00:00, 2746.98 examples/s]\n",
      "Map: 100%|██████████| 10180/10180 [00:04<00:00, 2494.83 examples/s]\n"
     ]
    }
   ],
   "source": [
    "model_id = \"bert-base-uncased\"\n",
    "tokenizer = BertTokenizerFast.from_pretrained(model_id)\n",
    "\n",
    "train_dataset = Dataset.from_pandas(df_train)\n",
    "eval_dataset = Dataset.from_pandas(df_eval)\n",
    "test_dataset = Dataset.from_pandas(df_test)\n",
    "\n",
    "def tokenize(batch):\n",
    "    return tokenizer(batch[\"text\"], padding=True, truncation=True, max_length = 512)\n",
    "\n",
    "train_dataset = train_dataset.map(tokenize, batched=True, batch_size=len(train_dataset))\n",
    "eval_dataset = eval_dataset.map(tokenize, batched=True, batch_size=len(eval_dataset))\n",
    "test_dataset = test_dataset.map(tokenize, batched=True, batch_size=len(test_dataset))"
   ]
  },
  {
   "cell_type": "code",
   "execution_count": 50,
   "metadata": {},
   "outputs": [
    {
     "data": {
      "text/plain": [
       "Dataset({\n",
       "    features: ['id', 'Prompt', 'text', 'labels', 'category', '__index_level_0__', 'input_ids', 'token_type_ids', 'attention_mask'],\n",
       "    num_rows: 82019\n",
       "})"
      ]
     },
     "execution_count": 50,
     "metadata": {},
     "output_type": "execute_result"
    }
   ],
   "source": [
    "train_dataset"
   ]
  },
  {
   "cell_type": "code",
   "execution_count": 51,
   "metadata": {},
   "outputs": [
    {
     "data": {
      "text/plain": [
       "Dataset({\n",
       "    features: ['id', 'Prompt', 'text', 'labels', 'category', '__index_level_0__', 'input_ids', 'token_type_ids', 'attention_mask'],\n",
       "    num_rows: 10180\n",
       "})"
      ]
     },
     "execution_count": 51,
     "metadata": {},
     "output_type": "execute_result"
    }
   ],
   "source": [
    "test_dataset"
   ]
  },
  {
   "cell_type": "code",
   "execution_count": null,
   "metadata": {},
   "outputs": [],
   "source": [
    "eval_dataset"
   ]
  },
  {
   "cell_type": "markdown",
   "metadata": {},
   "source": [
    "## Training"
   ]
  },
  {
   "cell_type": "markdown",
   "metadata": {},
   "source": [
    "Before anything else, we need to verify that we are using the GPU correctly"
   ]
  },
  {
   "cell_type": "code",
   "execution_count": null,
   "metadata": {},
   "outputs": [],
   "source": [
    "device = 'cuda' if cuda.is_available() else 'cpu'\n",
    "device"
   ]
  },
  {
   "cell_type": "markdown",
   "metadata": {},
   "source": [
    "Load the model locally."
   ]
  },
  {
   "cell_type": "code",
   "execution_count": null,
   "metadata": {},
   "outputs": [],
   "source": [
    "model = BertForSequenceClassification.from_pretrained(model_id, num_labels=NUM_LABELS, id2label=id2label, label2id=label2id)\n",
    "model.to(device)"
   ]
  },
  {
   "cell_type": "markdown",
   "metadata": {},
   "source": [
    "Create a repository on huggingface and copy its name into a variable."
   ]
  },
  {
   "cell_type": "code",
   "execution_count": null,
   "metadata": {},
   "outputs": [],
   "source": [
    "output_dir = 'logs/bert-base-uncased-llm-classificator'\n",
    "\n",
    "\n",
    "training_args = TrainingArguments(\n",
    "    output_dir= output_dir, \n",
    "    do_train=True,\n",
    "    do_eval=True,\n",
    "    num_train_epochs=3,              \n",
    "    per_device_train_batch_size=64,  \n",
    "    per_device_eval_batch_size=64,\n",
    "    warmup_steps=100,                \n",
    "    weight_decay=0.01,\n",
    "    logging_strategy='steps',            \n",
    "    logging_dir=f\"{output_dir}/logs\",            \n",
    "    logging_steps=50,\n",
    "    evaluation_strategy=\"steps\",\n",
    "    eval_steps=50,\n",
    "    save_strategy=\"steps\", \n",
    "    load_best_model_at_end=True\n",
    ")\n",
    "\n",
    "def compute_metrics(pred):\n",
    "    labels = pred.label_ids\n",
    "    preds = pred.predictions.argmax(-1)\n",
    "    \n",
    "    macro_precision, macro_recall, macro_f1, _ = precision_recall_fscore_support(labels, preds, average='macro')\n",
    "    \n",
    "    class_precision, class_recall, class_f1, _ = precision_recall_fscore_support(labels, preds, average=None)\n",
    "    \n",
    "    acc = accuracy_score(labels, preds)\n",
    "    \n",
    "    metrics = {\n",
    "        'Accuracy': acc,\n",
    "        'Macro_F1': macro_f1,\n",
    "        'Macro_Precision': macro_precision,\n",
    "        'Macro_Recall': macro_recall,\n",
    "        'Class_Precision': class_precision.tolist(),\n",
    "        'Class_Recall': class_recall.tolist(),\n",
    "        'Class_F1': class_f1.tolist()\n",
    "    }\n",
    "    \n",
    "    return metrics\n",
    "    \n",
    "\n",
    "trainer = Trainer(\n",
    "    model=model,                     \n",
    "    args=training_args,                 \n",
    "    train_dataset=train_dataset,         \n",
    "    eval_dataset=eval_dataset,            \n",
    "    compute_metrics= compute_metrics\n",
    ")\n",
    "\n",
    "\n"
   ]
  },
  {
   "cell_type": "code",
   "execution_count": null,
   "metadata": {},
   "outputs": [],
   "source": [
    "trainer.train()"
   ]
  },
  {
   "cell_type": "code",
   "execution_count": null,
   "metadata": {},
   "outputs": [],
   "source": [
    "\"\"\"q=[trainer.evaluate(eval_dataset=test_dataset)]\n",
    "\n",
    "pd.DataFrame(q, index=[\"test\"]).iloc[:,:8]\"\"\""
   ]
  },
  {
   "cell_type": "code",
   "execution_count": null,
   "metadata": {},
   "outputs": [],
   "source": [
    "def plot_confusion_matrix(y_predicted, y_true, labels):\n",
    "    cm = confusion_matrix(y_true, y_predicted, normalize='true')\n",
    "    fig, ax = plt.subplots(figsize=(6,6))\n",
    "    disp = ConfusionMatrixDisplay(confusion_matrix=cm, display_labels=labels)\n",
    "    disp.plot(cmap='Blues', values_format='.2f', ax=ax, colorbar=False)\n",
    "    plt.title('Normalized Confusion Matrix')\n",
    "    plt.show()\n",
    "\n",
    "\n",
    "y_valid = test_dataset['labels']\n",
    "\n",
    "predictions = trainer.predict(test_dataset)\n",
    "y_predictions = predictions.predictions.argmax(-1)\n",
    "\n",
    "\n",
    "plot_confusion_matrix(y_predictions, y_valid, labels)\n"
   ]
  },
  {
   "cell_type": "code",
   "execution_count": null,
   "metadata": {},
   "outputs": [],
   "source": [
    "predictions.metrics"
   ]
  },
  {
   "cell_type": "markdown",
   "metadata": {},
   "source": [
    "## Save the model locally"
   ]
  },
  {
   "cell_type": "code",
   "execution_count": null,
   "metadata": {},
   "outputs": [],
   "source": [
    "model_path = 'bert-base-uncased-llm-classificator'\n",
    "trainer.save_model(model_path)\n",
    "tokenizer.save_pretrained(model_path)"
   ]
  },
  {
   "cell_type": "code",
   "execution_count": null,
   "metadata": {},
   "outputs": [],
   "source": [
    "gc.collect()\n",
    "del model\n",
    "torch.cuda.empty_cache()"
   ]
  }
 ],
 "metadata": {
  "kernelspec": {
   "display_name": "base",
   "language": "python",
   "name": "python3"
  },
  "language_info": {
   "codemirror_mode": {
    "name": "ipython",
    "version": 3
   },
   "file_extension": ".py",
   "mimetype": "text/x-python",
   "name": "python",
   "nbconvert_exporter": "python",
   "pygments_lexer": "ipython3",
   "version": "3.10.12"
  }
 },
 "nbformat": 4,
 "nbformat_minor": 2
}
