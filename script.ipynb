{
 "cells": [
  {
   "cell_type": "code",
   "execution_count": 1,
   "id": "initial_id",
   "metadata": {
    "ExecuteTime": {
     "end_time": "2024-04-04T17:43:03.861471Z",
     "start_time": "2024-04-04T17:43:00.786394Z"
    },
    "collapsed": true
   },
   "outputs": [],
   "source": [
    "import csv\n",
    "import pandas as pd"
   ]
  },
  {
   "cell_type": "markdown",
   "id": "cb0f34e3",
   "metadata": {},
   "source": [
    "Formatar as colunas, removendo as linhas que tem input e a coluna text"
   ]
  },
  {
   "cell_type": "code",
   "execution_count": 2,
   "id": "0933b1c4",
   "metadata": {},
   "outputs": [
    {
     "name": "stdout",
     "output_type": "stream",
     "text": [
      "Filtered CSV created successfully!\n"
     ]
    }
   ],
   "source": [
    "# Open the input CSV file\n",
    "with open('train.csv', 'r', newline='') as infile:\n",
    "    reader = csv.DictReader(infile)\n",
    "    rows_to_keep = []\n",
    "    # Iterate over each row in the CSV\n",
    "    for row in reader:\n",
    "        # Check if the input section is not null\n",
    "        if row['input']:\n",
    "            continue  # Skip this row\n",
    "        else:\n",
    "            # Remove 'input' and 'text' columns from the row\n",
    "            del row['input']\n",
    "            del row['text']\n",
    "            rows_to_keep.append(row)\n",
    "# Write the filtered rows to a new CSV file\n",
    "with open('filtered_file.csv', 'w', newline='') as outfile:\n",
    "    fieldnames = ['instruction', 'output']  # Define fieldnames without 'input' and 'text'\n",
    "    writer = csv.DictWriter(outfile, fieldnames=fieldnames)\n",
    "    # Write the header\n",
    "    writer.writeheader()\n",
    "    # Write the filtered rows\n",
    "    for row in rows_to_keep:\n",
    "        writer.writerow(row)\n",
    "print(\"Filtered CSV created successfully!\")"
   ]
  },
  {
   "cell_type": "markdown",
   "id": "edfe3d8f",
   "metadata": {},
   "source": [
    "Visualização dos primeiras cinco linhas"
   ]
  },
  {
   "cell_type": "code",
   "execution_count": null,
   "id": "8f8adc96",
   "metadata": {},
   "outputs": [],
   "source": [
    "with open('filtered_file.csv', 'r', newline='') as infile:\n",
    "    reader = csv.DictReader(infile)\n",
    "    \n",
    "    output_texts = []\n",
    "    for row in reader:\n",
    "        output_texts.append(row['output'])\n",
    "        if len(output_texts) >= 5:\n",
    "            break\n",
    "        \n",
    "    print(\"Primeiros cinco textos da coluna 'output':\")\n",
    "    for text in output_texts:\n",
    "        print(\"\\n#############################################\\n\")\n",
    "        print(text)"
   ]
  },
  {
   "cell_type": "code",
   "execution_count": 2,
   "id": "9813c08edc119e35",
   "metadata": {
    "ExecuteTime": {
     "end_time": "2024-04-04T17:43:24.316290Z",
     "start_time": "2024-04-04T17:43:24.304736Z"
    }
   },
   "outputs": [
    {
     "data": {
      "text/plain": [
       "Index(['instruction', 'input', 'output', 'text'], dtype='object')"
      ]
     },
     "execution_count": 2,
     "metadata": {},
     "output_type": "execute_result"
    }
   ],
   "source": [
    "df = pd.read_csv('train.csv')\n",
    "print(df.info())"
   ]
  },
  {
   "cell_type": "code",
   "execution_count": null,
   "id": "ad7ce2259ec29d11",
   "metadata": {},
   "outputs": [],
   "source": []
  }
 ],
 "metadata": {
  "kernelspec": {
   "display_name": "Python 3",
   "language": "python",
   "name": "python3"
  },
  "language_info": {
   "codemirror_mode": {
    "name": "ipython",
    "version": 3
   },
   "file_extension": ".py",
   "mimetype": "text/x-python",
   "name": "python",
   "nbconvert_exporter": "python",
   "pygments_lexer": "ipython3",
   "version": "3.10.0"
  }
 },
 "nbformat": 4,
 "nbformat_minor": 5
}
